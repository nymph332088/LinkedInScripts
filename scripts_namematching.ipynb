{
 "metadata": {
  "name": "",
  "signature": "sha256:30f9ad1d4f5091a000b1db73afa615c93f3a49f2013fddee4cbaca720a59b8c3"
 },
 "nbformat": 3,
 "nbformat_minor": 0,
 "worksheets": [
  {
   "cells": [
    {
     "cell_type": "code",
     "collapsed": false,
     "input": [
      "from scrapy.spider import BaseSpider\n",
      "from scrapy.selector import Selector\n",
      "import subprocess\n",
      "import threading\n",
      "import os\n",
      "import time\n",
      "import codecs\n",
      "# start_urls = [url.strip() for url in open('part_00000_urls.txt').readlines()]\n",
      "def kill_lynx(pid):\n",
      "\tos.kill(pid, signal.SIGKILL)\n",
      "\tos.waitpid(-1, os.WNOHANG)\n",
      "\tprint(\"lynx killed\")\n",
      "\n",
      "for i in range(3,4):\n",
      "\tinfn = 'part-%05d' %(i)\n",
      "\tinputfile = open(infn)\n",
      "\toutfn = infn + '-namemap'\n",
      "\toutputfile = codecs.open(outfn,encoding='utf-8', mode='w+')\n",
      "\tlinenum = 1\n",
      "\tfor line in inputfile.readlines():\n",
      "\t\turl = line.split(\"\\t\")[0].decode('utf-8')\n",
      "\t\tprint url\n",
      "\t\tcmd = \"lynx -source \" + url\n",
      "\t\tprint cmd\n",
      "\t\tlynx = subprocess.Popen(cmd, shell=True, stdout=subprocess.PIPE)\n",
      "\t\t# t = threading.Timer(300.0, kill_lynx, args=[lynx.pid])\n",
      "\t\t# t.start()\n",
      "\t\tfile_data = lynx.stdout.read()\n",
      "\t\t# t.cancel()\n",
      "\t\tif file_data == '':\n",
      "\t\t\toutputfile.write(str(linenum) + \",\" + url + \",\" + \" \" + \",\" + \" \" + \",\" + \" \" + \"\\n\")\n",
      "\t\t\tlinenum += 1\n",
      "\t\t\tcontinue\n",
      "\t\tsel = Selector(text=file_data)\n",
      "\t\tfullnamelist = sel.xpath(\"/html/head/title/text()\").extract()\n",
      "\t\tif len(fullnamelist) == 0:\n",
      "\t\t\toutputfile.write(str(linenum) + \",\" + url + \",\" + \" \" + \",\" + \" \" + \",\" + \" \" + \"\\n\")\n",
      "\t\t\tlinenum += 1\n",
      "\t\t\tcontinue\n",
      "\t\tfullnamelist = fullnamelist[0].split(\"|\")[0].split(\",\")[0].split()\n",
      "\t\t# fullnamelist = sel.xpath(\"//span[@class = 'full-name']//text()\").extract()\n",
      "\t\tfullname = \" \".join(fullnamelist)\n",
      "\t\tlastname = fullnamelist[-1]\n",
      "\t\tfirstname = \" \".join(fullnamelist[:-1])\n",
      "\t\toutputfile.write(str(linenum) + \",\" + url + \",\" + fullname + \",\" + firstname + \",\" + lastname + \"\\n\")\n",
      "\t\t# outputfile.flush()\n",
      "\t\tlinenum += 1\n",
      "\toutputfile.close()"
     ],
     "language": "python",
     "metadata": {},
     "outputs": []
    }
   ],
   "metadata": {}
  }
 ]
}