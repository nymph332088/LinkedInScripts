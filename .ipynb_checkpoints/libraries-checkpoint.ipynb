{
 "metadata": {
  "name": "",
  "signature": "sha256:b54366e598deaade971d1703e6dbc966c72bee8c9103fdef7b5b430a4808ccba"
 },
 "nbformat": 3,
 "nbformat_minor": 0,
 "worksheets": [
  {
   "cells": [
    {
     "cell_type": "code",
     "collapsed": false,
     "input": [
      "import pandas as pd\n",
      "import numpy as np\n",
      "import scipy as sp\n",
      "import matplotlib.pylab as plt\n",
      "import re\n",
      "import string\n",
      "import difflib\n",
      "import Levenshtein\n",
      "import subprocess\n",
      "import threading\n",
      "import os\n",
      "import time\n",
      "import codecs\n",
      "import errno"
     ],
     "language": "python",
     "metadata": {},
     "outputs": [],
     "prompt_number": 1
    }
   ],
   "metadata": {}
  }
 ]
}