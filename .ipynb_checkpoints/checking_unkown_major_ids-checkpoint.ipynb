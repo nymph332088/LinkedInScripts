{
 "metadata": {
  "name": "",
  "signature": "sha256:398946ad38d07edda58c91cb92cc897972afe4eca7874dfcba9830018a28895a"
 },
 "nbformat": 3,
 "nbformat_minor": 0,
 "worksheets": [
  {
   "cells": [
    {
     "cell_type": "code",
     "collapsed": false,
     "input": [
      "import pandas as pd\n",
      "import numpy as np\n",
      "import scipy as sp\n",
      "import matplotlib.pylab as plt\n",
      "import re\n",
      "import string\n",
      "import difflib\n",
      "import Levenshtein\n",
      "# def findWholeWord(w):\n",
      "#     return re.compile(r'\\b({0})\\b'.format(w), flags=re.IGNORECASE).search\n",
      "mst = ['masters','master','MA', 'MS', 'MEd', 'MSc', 'MEB', 'MDes', 'MNCM', 'MSN', \\\n",
      "       'MSW', 'MPA', 'MPC', 'MPP','MPH', 'MC', 'MCA', 'MCouns', 'MLA', 'MLIS', 'MDiv', \\\n",
      "       'ALM', 'MiM', 'MBA','emba','iMBA', 'MBA Tech', 'MCom', 'MBus', 'MI', 'PSM', \\\n",
      "       'MEng', 'MMath', 'MPhys', 'MPsych', 'MSci', 'MChem', 'MBiol', 'MGeol',\\\n",
      "       'dpm','dmd','doctor','phd','ph d','dphi','doctorate','post-doc']\n",
      "studentInfo = pd.read_csv('../studentInfo5.csv',sep='\\t',dtype=object)\n",
      "print studentInfo.shape\n",
      "majorDict = pd.read_csv('../majordict.csv', sep='\\t',dtype=object)\n",
      "majorDict.index = majorDict.ID"
     ],
     "language": "python",
     "metadata": {},
     "outputs": [],
     "prompt_number": 2
    },
    {
     "cell_type": "code",
     "collapsed": false,
     "input": [
      "%pylab inline\n",
      "width = 0.35\n",
      "k = 20\n",
      "StMj = studentInfo.Entry_Major\n",
      "# StMj = StMj.value_counts().iloc[:k]\n",
      "StMj = np.log2(StMj.value_counts().iloc[:k]+1)\n",
      "EndMj = studentInfo.EndMj\n",
      "# EndMj = EndMj.value_counts()\n",
      "EndMj = np.log2(EndMj.value_counts()+1)\n",
      "\n",
      "fig, ax = plt.subplots()\n",
      "ind = np.arange(k)\n",
      "rect1 = ax.bar(ind, StMj,width, color='r')\n",
      "rect2 = ax.bar(ind+width, EndMj.ix[StMj.index],width, color='b')\n",
      "labels = majorDict.ix[StMj.iloc[:k].index].Name\n",
      "labels[pd.isnull(labels)] = labels[pd.isnull(labels)].index\n",
      "plt.xticks(ind+2*width, labels, rotation = 45, ha='right')\n",
      "ax.set_ylabel('Log2 Number of students')\n",
      "plt.legend((rect1[0],rect2[0]),('EntryMajor','EndMajor'))\n",
      "plt.gcf().tight_layout()\n",
      "plt.savefig('pic/entrymajor_vs_endmajor.png')\n",
      "# plt.set_xticks(ind + 0.5/2)\n",
      "# ax.set_xticklabels(EndMj.iloc[:10].index)"
     ],
     "language": "python",
     "metadata": {},
     "outputs": []
    },
    {
     "cell_type": "code",
     "collapsed": false,
     "input": [
      "%pylab inline\n",
      "width = 0.35\n",
      "k = 20\n",
      "StMj = studentInfo.EndMj\n",
      "# StMj = StMj.value_counts().iloc[:k]\n",
      "StMj = np.log2(StMj.value_counts().iloc[:k]+1)\n",
      "EndMj = studentInfo.Entry_Major\n",
      "# EndMj = EndMj.value_counts()\n",
      "EndMj = np.log2(EndMj.value_counts()+1)\n",
      "\n",
      "fig, ax = plt.subplots()\n",
      "ind = np.arange(k)\n",
      "rect1 = ax.bar(ind+width, StMj,width, color='b')\n",
      "rect2 = ax.bar(ind, EndMj.ix[StMj.index],width, color='r')\n",
      "labels = majorDict.ix[StMj.iloc[:k].index].Name\n",
      "labels[pd.isnull(labels)] = labels[pd.isnull(labels)].index\n",
      "plt.xticks(ind+2*width, labels, rotation = 45, ha='right')\n",
      "ax.set_ylabel('Log2 Number of students')\n",
      "plt.legend((rect2[0],rect1[0]),('EntryMajor','EndMajor'))\n",
      "plt.gcf().tight_layout()\n",
      "# plt.savefig('pic/entrymajor_vs_endmajor.png')\n",
      "# plt.set_xticks(ind + 0.5/2)\n",
      "# ax.set_xticklabels(EndMj.iloc[:10].index)"
     ],
     "language": "python",
     "metadata": {},
     "outputs": []
    },
    {
     "cell_type": "code",
     "collapsed": false,
     "input": [
      "st_mathced_Info = studentInfo[studentInfo.NumMT == '1']\n",
      "st_mathced_Info.All_majors[pd.isnull(st_mathced_Info.All_majors)] = ''\n",
      "allIdsInRecord = np.unique([y for x in st_mathced_Info.All_majors.values for y in x.split(';')])\n",
      "totalIdsForMatch = majorDict.ix[allIdsInRecord].ID\n",
      "missingIds = totalIdsForMatch[pd.isnull(totalIdsForMatch)].index\n",
      "# mjnmLinkin= {}\n",
      "# for key in mid_st_dict.keys():\n",
      "#     # 5th column in file\n",
      "#     mjnmLinkin[key] = []\n",
      "#     for st in mid_st_dict[key]:\n",
      "#         fn = int(float(st_mathced_Info.ix[st].MTResults.split(';')[0]))\n",
      "#         ln = int(float(st_mathced_Info.ix[st].MTResults.split(';')[1]))\n",
      "#         mjnmLinkin[key].append(open('part-%05d' %(fn),'rb').readlines()[ln].split('\\t')[5])"
     ],
     "language": "python",
     "metadata": {},
     "outputs": [],
     "prompt_number": 115
    },
    {
     "cell_type": "code",
     "collapsed": false,
     "input": [
      "st_mathced_Info = studentInfo[studentInfo.NumMT == '1']\n",
      "st_mathced_Info.shape\n",
      "\n",
      "%pylab inline\n",
      "width = 0.35\n",
      "k = 20\n",
      "StMj = studentInfo.EndMj\n",
      "# StMj = StMj.value_counts().iloc[:k]\n",
      "StMj = np.log2(StMj.value_counts().iloc[:k]+1)\n",
      "EndMj = st_mathced_Info.EndMj\n",
      "# EndMj = EndMj.value_counts()\n",
      "EndMj = np.log2(EndMj.value_counts()+1)\n",
      "\n",
      "fig, ax = plt.subplots()\n",
      "ind = np.arange(k)\n",
      "rect1 = ax.bar(ind, StMj,width, color='r')\n",
      "rect2 = ax.bar(ind+width, EndMj.ix[StMj.index],width, color='b')\n",
      "labels = majorDict.ix[StMj.iloc[:k].index].Name\n",
      "labels[pd.isnull(labels)] = labels[pd.isnull(labels)].index\n",
      "plt.xticks(ind+2*width, labels, rotation = 45, ha='right')\n",
      "ax.set_ylabel('Log2 Number of students')\n",
      "ax.set_xlabel('Top 20 final majors for overall and linkedin students') \n",
      "plt.legend((rect1[0],rect2[0]),('Overall','In LinkedIn'))\n",
      "plt.gcf().tight_layout()\n",
      "plt.savefig('pic/major_bias.png')\n",
      "# plt.set_xticks(ind + 0.5/2)\n",
      "# ax.set_xticklabels(EndMj.iloc[:10].index)"
     ],
     "language": "python",
     "metadata": {},
     "outputs": []
    },
    {
     "cell_type": "code",
     "collapsed": false,
     "input": [
      "studentInfo = pd.read_csv('../studentInfo5.csv',sep='\\t')\n",
      "print len(studentInfo)\n",
      "education = [ pd.read_csv('../part-%05d-education.csv' %i, sep='\\t') for i in range(0,10)]\n",
      "print len(education)\n",
      "education = [edu[~pd.isnull(edu.FullName)] for edu in education]\n",
      "for i, edu in enumerate(education):\n",
      "    edu['File'] = np.zeros((len(edu),)) + i\n",
      "education = pd.concat(education,axis=0)\n",
      "education.FullName = education.FullName.str.title()\n",
      "education.FirstName = education.FirstName.str.title()\n",
      "education.LastName = education.LastName.str.title()\n",
      "print len(education.groupby(['File','Index']))\n",
      "templeStu = education[[bool(findWholeWord('temple')(uni)) for uni in  education.University]]\n",
      "print len(templeStu.groupby(['File','Index']))\n",
      "recordedStu = templeStu[(templeStu.StartYear.astype('float')<=2010) & (templeStu.StartYear.astype('float')>=1997)]\n",
      "print len(recordedStu.groupby(['File','Index']))\n",
      "recordedStu.Major[pd.isnull(recordedStu.Major)] = ''\n",
      "recordedStu.Degree[pd.isnull(recordedStu.Degree)]= ''\n",
      "bachelorStu = recordedStu\n",
      "degrees = [''.join(x.split('.')) for x in bachelorStu.Degree]\n",
      "majors = [''.join(x.split('.')) for x in bachelorStu.Major]\n",
      "masterOrPhD = []\n",
      "for (stdg,stmj) in zip(degrees,majors):\n",
      "    mas = False\n",
      "    for dg in mst:\n",
      "        if bool(findWholeWord(dg)(stdg)) | bool(findWholeWord(dg)(stmj)):\n",
      "            mas = True\n",
      "    masterOrPhD.append(mas)\n",
      "bachelorStu = bachelorStu[~ np.array(masterOrPhD)]\n",
      "# print len(bachelorStu.groupby(['File','Index']))\n",
      "# additional = [y for x in studentInfo.All_majors.astype('S') for y in x.split(';')] +\\\n",
      "#             [x for x in studentInfo.Entry_Major.astype('S')]\n",
      "# additional = np.unique(np.array(additional))\n",
      "# notin = [x for x in additional if x not in majorDict.index.values]\n",
      "# majorDict.Name = [name.translate(string.maketrans(\"\",\"\"), string.punctuation) for name in majorDict.Name]\n",
      "# studentInfo['EntryMjName'] = majorDict.ix[studentInfo.Entry_Major.astype('S').values[:]].Name.values\n",
      "# studentInfo['EndMjName'] = majorDict.ix[studentInfo.EndMj.astype('S').values[:]].Name.values\n",
      "# studentInfo['UniqMajorName'] = [';'.join(majorDict.ix[major.split(';')].Name.values) \\\n",
      "#                                 for major in studentInfo.Unique_Majors.astype('S').values]\n",
      "# studentInfo['AllMajorName'] = [';'.join(majorDict.ix[major.split(';')].Name.values) \\\n",
      "#                                 for major in studentInfo.All_majors.astype('S').values]\n",
      "# studentInfo['GradMjExName'] = [majorDict.ix[major] for major in studentInfo.GradMj_Extracted.astype('S').values]\n",
      "# studentInfo['GradMjReName'] = [majorDict.ix[major] for major in studentInfo.GradMj_Reported.astype('S').values]\n"
     ],
     "language": "python",
     "metadata": {},
     "outputs": []
    },
    {
     "cell_type": "code",
     "collapsed": false,
     "input": [
      "##################Join StudentInfo Table with Education table by LastName ###############\n",
      "# Merge the education table.\n",
      "studentInfo = pd.read_csv('../studentInfo5.csv',sep='\\t',dtype='object')\n",
      "education = [ pd.read_csv('../part-%05d-education.csv' %i, sep='\\t') for i in range(0,10)]\n",
      "print len(education)\n",
      "education = [edu[~pd.isnull(edu.FullName)] for edu in education]\n",
      "for i, edu in enumerate(education):\n",
      "    edu['File'] = np.zeros((len(edu),)) + i\n",
      "education = pd.concat(education,axis=0)\n",
      "education.FullName = education.FullName.str.title()\n",
      "education.FirstName = education.FirstName.str.title()\n",
      "education.LastName = education.LastName.str.title()\n",
      "print len(education.groupby(['File','Index']))\n",
      "\n",
      "# Preprocessing the names of Education Table\n",
      "education.FullName = [name.split(',')[0] for name in education.FullName] ## Remove the afflication in the names\n",
      "education.FullName = [name.translate(string.maketrans(\"\",\"\"), string.punctuation) for name in education.FullName]\n",
      "education.FirstName = [' '.join(name.split()[:-1]) for name in education.FullName]\n",
      "education.LastName = [name.split()[-1] for name in education.FullName]\n",
      "\n",
      "# Remove the records that has no temple university background\n",
      "education.University[pd.isnull(education.University)] = ''\n",
      "reg = re.compile(r'(?i)\\b(?:%s)\\b' % ('temple'), re.IGNORECASE)\n",
      "education = education[[bool(reg.search(uni)) for uni in  education.University.values]]\n",
      "print len(education)\n",
      "\n",
      "# Remove whoever are master or doctorate\n",
      "education.Degree[pd.isnull(education.Degree)] = ''\n",
      "education.Major[pd.isnull(education.Major)] = ''\n",
      "education.Major = [' '.join(major.translate(string.maketrans(\"\",\"\"),string.punctuation).split()) for major in education.Major]\n",
      "education.Degree = [' '.join(degree.translate(string.maketrans(\"\",\"\"),string.punctuation).split()) for degree in education.Degree]\n",
      "degrees = [''.join(x.split('.')) for x in education.Degree]\n",
      "majors = [''.join(x.split('.')) for x in education.Major]\n",
      "reg = re.compile(r'(?i)\\b(?:%s)\\b' % ('|'.join(mst)), re.IGNORECASE)\n",
      "masterOrPhD = [bool(reg.search(stdg)) | bool(reg.search(stmj)) for (stdg,stmj) in zip(degrees,majors)]\n",
      "education = education[~ np.array(masterOrPhD)]\n",
      "education = education[~ ((education.StartYear.astype('float') < 1997) \\\n",
      "                         | (education.StartYear.astype('float') > 2011))]\n",
      "\n",
      "# Join table with last name matching \n",
      "joinedTable = pd.merge(studentInfo, education, on='LastName',how='inner')\n",
      "print len(joinedTable.groupby('Index_x'))\n",
      "print len(joinedTable)\n",
      "\n",
      "# Check the inexact match in the first name. Consider only the firstnames without the first character\n",
      "# Exact Matched student\n",
      "exactMatch = [bool(re.compile(r'(?i)\\b(?:%s)\\b' % (row['FirstName_x']), re.IGNORECASE).search(row['FirstName_y'])) \\\n",
      "              for index,row in joinedTable.iterrows()]\n",
      "exactMatchTable = joinedTable[exactMatch]\n",
      "\n",
      "# inexactMatchTable = joinejoinedTable\n",
      "len(exactMatchTable.groupby('Index_x'))"
     ],
     "language": "python",
     "metadata": {},
     "outputs": [
      {
       "output_type": "stream",
       "stream": "stdout",
       "text": [
        "10\n",
        "87384"
       ]
      },
      {
       "output_type": "stream",
       "stream": "stdout",
       "text": [
        "\n",
        "88829"
       ]
      },
      {
       "output_type": "stream",
       "stream": "stdout",
       "text": [
        "\n",
        "7362"
       ]
      },
      {
       "output_type": "stream",
       "stream": "stdout",
       "text": [
        "\n",
        "224020\n"
       ]
      },
      {
       "output_type": "stream",
       "stream": "stderr",
       "text": [
        "-c:22: SettingWithCopyWarning: \n",
        "A value is trying to be set on a copy of a slice from a DataFrame\n",
        "\n",
        "See the the caveats in the documentation: http://pandas.pydata.org/pandas-docs/stable/indexing.html#indexing-view-versus-copy\n"
       ]
      },
      {
       "metadata": {},
       "output_type": "pyout",
       "prompt_number": 32,
       "text": [
        "1944"
       ]
      }
     ],
     "prompt_number": 32
    },
    {
     "cell_type": "code",
     "collapsed": false,
     "input": [
      "columnstowrite = ['STName','FullName','StartYear_x','StartYear_y',\\\n",
      "                  'EndYear_x','EndYear_y','UniqMajorName','Major','Degree','Index_x','Index_y',\\\n",
      "                  'File','Graduated_or_not','GradMjExName','GradMjReName']\n",
      "joinedTable[columnstowrite].to_csv('all.csv',index=True)"
     ],
     "language": "python",
     "metadata": {},
     "outputs": [],
     "prompt_number": 33
    },
    {
     "cell_type": "code",
     "collapsed": false,
     "input": [
      "inexactMatchTable = joinedTable\n",
      "# inexactMatchTable = inexactMatchTable[inexactMatchTable.FirstName_y != '']\n",
      "matchRatio = 0.6\n",
      "inexactMatch = [[Levenshtein.ratio(x[1:], row['FirstName_x'][1:]) for x in row['FirstName_y'].split() \\\n",
      "                 if (len(row['FirstName_y'])>1) & (x[0] == row['FirstName_x'][0])] \\\n",
      "                for index,row in inexactMatchTable.iterrows()]\n",
      "inexactMatch = np.array([max(x) if x else 0 for x in inexactMatch]) >= matchRatio\n",
      "inexactMatchTable = inexactMatchTable[inexactMatch]\n",
      "print len(inexactMatchTable)\n",
      "# # Inexact Match for the remaining students\n",
      "# inexactMatchTable = joinedTable[~ np.array(exactMatch)]\n",
      "# inexactMatchTable = inexactMatchTable[inexactMatchTable.FirstName_y != '']\n",
      "# matchRatio = 0.7\n",
      "# inexactMatch = [ (row['FirstName_x'][0] == row['FirstName_y'][0]) & \\\n",
      "#                 (Levenshtein.ratio(row['FirstName_x'][1:],row['FirstName_y'][1:])>= matchRatio) \\\n",
      "#                 for index,row in inexactMatchTable.iterrows()]\n",
      "# inexactMatchTable = inexactMatchTable[inexactMatch]"
     ],
     "language": "python",
     "metadata": {},
     "outputs": [
      {
       "output_type": "stream",
       "stream": "stdout",
       "text": [
        "3390\n"
       ]
      }
     ],
     "prompt_number": 29
    },
    {
     "cell_type": "code",
     "collapsed": false,
     "input": [
      "# Manual Match Results:\n",
      "manual_match = pd.read_csv('../inexactmatch_manual_backup.csv',index_col=0)\n",
      "manual_match.Match_or_Not[pd.isnull(manual_match.Match_or_Not)] = 0\n",
      "manual_match.Match_or_Not = manual_match.Match_or_Not.astype('bool')\n",
      "manual_match = manual_match.Match_or_Not\n",
      "columnstowrite = ['STName','FullName','StartYear_x','StartYear_y',\\\n",
      "                  'EndYear_x','EndYear_y','UniqMajorName','Major','Degree','Index_x','Index_y',\\\n",
      "                  'File','Graduated_or_not','GradMjExName','GradMjReName']\n",
      "manualMatchTable = inexactMatchTable.ix[manual_match.index[~manual_match]]\n",
      "manualMatchTable.drop_duplicates(cols=['LastName','Index_x','Index_y','File'], take_last=True, inplace = True)\n",
      "manualMatchTable[columnstowrite].to_csv('../inexactmatch_mamual_removedup.csv',index=True)\n",
      "print len(manualMatchTable.groupby('Index_x'))\n",
      "print pd.Series([len(gr) for key,gr in manualMatchTable.groupby(['Index_y','File'])]).value_counts()\n",
      "print pd.Series([len(gr) for key,gr in manualMatchTable.groupby(['Index_x'])]).value_counts()\n",
      "# exceptiongr = [gr for key, gr in manualMatchTable.groupby(['Index_x']) if len(gr) > 1]\n",
      "# exceptiongr = [gr for key, gr in manualMatchTable.groupby(['Index_y','File']) if len(gr) > 1]\n",
      "# exceptiongr = pd.concat(exceptiongr,axis=0)\n",
      "# exceptiongr[columnstowrite].to_csv('../exception.csv',index=True)\n",
      "exception_manual = pd.read_csv('../exception_manual.csv',index_col=0) ## Remove the multiple matching for our records\n",
      "exception_manual = pd.read_csv('../exception_manual_2.csv',index_col=0) ## Remove the multiple matching for linkedin records\n",
      "exception_manual.Remove_or_not[pd.isnull(exception_manual.Remove_or_not)] = 0\n",
      "exception_manual = exception_manual.Remove_or_not.astype('bool')\n",
      "manualMatchTable.drop(labels = exception_manual.index[exception_manual],inplace=True)\n",
      "print len(manualMatchTable.groupby('Index_x'))\n",
      "\n",
      "print pd.Series([len(gr) for key,gr in manualMatchTable.groupby(['Index_y','File'])]).value_counts()\n",
      "print pd.Series([len(gr) for key,gr in manualMatchTable.groupby(['Index_x'])]).value_counts()\n",
      "# Analyze the Matching bias\n",
      "# Year bias\n",
      "manualMatchTable[columnstowrite].to_csv('../manualMatchedTable_short.csv',index=True)\n",
      "print float(sum(manualMatchTable.Graduated_or_not.astype('int').astype('bool')))/sum(studentInfo.Graduated_or_not.astype('int').astype('bool'))\n",
      "print sum(~studentInfo.Graduated_or_not.astype('int').astype('bool'))"
     ],
     "language": "python",
     "metadata": {},
     "outputs": [
      {
       "output_type": "stream",
       "stream": "stderr",
       "text": [
        "-c:3: SettingWithCopyWarning: \n",
        "A value is trying to be set on a copy of a slice from a DataFrame\n",
        "\n",
        "See the the caveats in the documentation: http://pandas.pydata.org/pandas-docs/stable/indexing.html#indexing-view-versus-copy\n"
       ]
      }
     ],
     "prompt_number": 30
    },
    {
     "cell_type": "code",
     "collapsed": false,
     "input": [
      "names = ['physics','math','mathematics','chemistry']\n",
      "st_mathced_Info = studentInfo[studentInfo.NumMT != 0]\n",
      "matched_st = [tuple(x.split(';')[:2]) for x in st_mathced_Info.MTResults]\n",
      "recordedStu.Major[pd.isnull(recordedStu.Major)] = ''\n",
      "recordedStu.Degree[pd.isnull(recordedStu.Degree)]= ''\n",
      "results = {}\n",
      "for name in names:\n",
      "    isMajorMatch = [(bool(findWholeWord(name)(major)) or bool(findWholeWord(name)(degree))) and \\\n",
      "                    (not bool(findWholeWord('education')(major)))\\\n",
      "                    for (major,degree) in zip(recordedStu['Major'].values,recordedStu['Degree'].values)]\n",
      "    majorStu = recordedStu[isMajorMatch]\n",
      "    degrees = [''.join(x.split('.')) for x in majorStu.Degree]\n",
      "    masterOrPhD = []\n",
      "    for stdg in degrees:\n",
      "        mas = False\n",
      "        for dg in mst:\n",
      "            if(findWholeWord(dg)(stdg)):\n",
      "                mas = True\n",
      "        masterOrPhD.append(mas)\n",
      "    majorStu = majorStu[~ np.array(masterOrPhD)]\n",
      "    \n",
      "#     flnames= zip([stnm.split()[0] for stnm in studentInfo.STName.values],\\\n",
      "#                  [stnm.split()[-1] for stnm in studentInfo.STName.values])\n",
      "#     isNameMatch = []\n",
      "#     for stnm in majorStu.FullName:\n",
      "#         isNameMatch.append(bool(sum([bool(findWholeWord(fn)(stnm)) &\\\n",
      "#                                      bool(findWholeWord(ln)(stnm)) for (fn,ln) in flnames])))\n",
      "    \n",
      "#     matchStu = majorStu[isNameMatch]\n",
      "    linkin_st = zip(majorStu['File'].astype('int').values, majorStu['Index'].values)\n",
      "    linkin_st = [(str(i),str(ln)) for (i,ln) in linkin_st]\n",
      "#     stfn = [ for x in ]\n",
      "#     matched_st = zip(matchStu['File'].astype('int').values, matchStu['Index'].values)\n",
      "#     matched_st = [(str(i),str(ln)) for (i,ln) in matched_st]\n",
      "    notmatched = [x for x in linkin_st if x not in matched_st]\n",
      "    results[name] = [len(linkin_st),len(notmatched),len(linkin_st) - len(notmatched)]"
     ],
     "language": "python",
     "metadata": {},
     "outputs": [],
     "prompt_number": 198
    },
    {
     "cell_type": "code",
     "collapsed": false,
     "input": [
      "results"
     ],
     "language": "python",
     "metadata": {},
     "outputs": [
      {
       "metadata": {},
       "output_type": "pyout",
       "prompt_number": 56,
       "text": [
        "{'chemistry': [191, 80, 111],\n",
        " 'math': [5, 4, 1],\n",
        " 'mathematics': [76, 47, 29],\n",
        " 'physics': [21, 14, 7]}"
       ]
      }
     ],
     "prompt_number": 56
    },
    {
     "cell_type": "code",
     "collapsed": false,
     "input": [
      "results"
     ],
     "language": "python",
     "metadata": {},
     "outputs": [
      {
       "metadata": {},
       "output_type": "pyout",
       "prompt_number": 250,
       "text": [
        "{'chemistry': [250, 138, 112],\n",
        " 'math': [9, 8, 1],\n",
        " 'mathematics': [99, 70, 29],\n",
        " 'physics': [34, 27, 7]}"
       ]
      }
     ],
     "prompt_number": 250
    },
    {
     "cell_type": "code",
     "collapsed": false,
     "input": [
      "results"
     ],
     "language": "python",
     "metadata": {},
     "outputs": [
      {
       "metadata": {},
       "output_type": "pyout",
       "prompt_number": 229,
       "text": [
        "{'chemistry': [251, 139, 112],\n",
        " 'math': [18, 17, 1],\n",
        " 'mathematics': [120, 90, 30],\n",
        " 'physics': [36, 29, 7]}"
       ]
      }
     ],
     "prompt_number": 229
    },
    {
     "cell_type": "code",
     "collapsed": false,
     "input": [
      "results"
     ],
     "language": "python",
     "metadata": {},
     "outputs": [
      {
       "metadata": {},
       "output_type": "pyout",
       "prompt_number": 199,
       "text": [
        "{'biology': [718, 453, 265],\n",
        " 'chemistry': [327, 218, 109],\n",
        " 'math': [21, 20, 1],\n",
        " 'physics': [61, 55, 6]}"
       ]
      }
     ],
     "prompt_number": 199
    },
    {
     "cell_type": "code",
     "collapsed": false,
     "input": [
      "results"
     ],
     "language": "python",
     "metadata": {},
     "outputs": [
      {
       "metadata": {},
       "output_type": "pyout",
       "prompt_number": 196,
       "text": [
        "{'biology': [607, 347, 260],\n",
        " 'chemistry': [251, 145, 106],\n",
        " 'math': [18, 17, 1],\n",
        " 'physics': [36, 30, 6]}"
       ]
      }
     ],
     "prompt_number": 196
    },
    {
     "cell_type": "code",
     "collapsed": false,
     "input": [
      "name = 'physics'\n",
      "isMajorMatch = [(bool(findWholeWord(name)(major)) or bool(findWholeWord(name)(degree))) and \\\n",
      "                (not bool(findWholeWord('education')(major)))\\\n",
      "                for (major,degree) in zip(recordedStu['Major'].values,recordedStu['Degree'].values)]\n",
      "majorStu = recordedStu[isMajorMatch]\n",
      "degrees = [''.join(x.split('.')) for x in majorStu.Degree]\n",
      "masterOrPhD = []\n",
      "for stdg in degrees:\n",
      "    mas = False\n",
      "    for dg in mst:\n",
      "        if(findWholeWord(dg)(stdg)):\n",
      "            mas = True\n",
      "    masterOrPhD.append(mas)\n",
      "majorStu = majorStu[~ np.array(masterOrPhD)]\n",
      "# flnames= zip([stnm.split()[0] for stnm in studentInfo.STName.values],\\\n",
      "#              [stnm.split()[-1] for stnm in studentInfo.STName.values])\n",
      "# isNameMatch = []\n",
      "# for stnm in majorStu.FullName:\n",
      "#     isNameMatch.append(bool(sum([bool(findWholeWord(fn)(stnm)) &\\\n",
      "#                                  bool(findWholeWord(ln)(stnm)) for (fn,ln) in flnames])))\n",
      "# matchStu = majorStu[isNameMatch]\n",
      "\n",
      "linkin_st = zip(majorStu['File'].astype('int').values, majorStu['Index'].values)\n",
      "linkin_st = [(str(i),str(ln)) for (i,ln) in linkin_st]\n",
      "#     stfn = [ for x in ]\n",
      "unmatchStu = majorStu[~np.array([(i,ln) in matched_st for (i,ln) in linkin_st])]\n",
      "matched_st = zip(matchStu['File'].astype('int').values, matchStu['Index'].values)\n",
      "matched_st = [(str(i),str(ln)) for (i,ln) in matched_st]\n",
      "notmatched = [x for x in linkin_st if x not in matched_st]\n",
      "results[name] = [len(linkin_st),len(notmatched),len(matched_st)]\n",
      "degree = [''.join(x.split('.')) for x in recordedStu.Degree]\n",
      "major = [''.join(x.split('.')) for x in recordedStu.Major]"
     ],
     "language": "python",
     "metadata": {},
     "outputs": [],
     "prompt_number": 247
    }
   ],
   "metadata": {}
  }
 ]
}