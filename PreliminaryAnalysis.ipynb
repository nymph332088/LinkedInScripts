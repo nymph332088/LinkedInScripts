{
 "metadata": {
  "name": "",
  "signature": "sha256:512ec365f545cf4da38f70c9bc3f1950a63412670c104c546346db8ea8b5da7e"
 },
 "nbformat": 3,
 "nbformat_minor": 0,
 "worksheets": [
  {
   "cells": [
    {
     "cell_type": "code",
     "collapsed": false,
     "input": [
      "import pandas as pd\n",
      "import numpy as np\n",
      "import scipy as sp\n",
      "import matplotlib.pylab as plt\n",
      "import re\n",
      "import string\n",
      "import difflib\n",
      "import Levenshtein\n",
      "# def findWholeWord(w):\n",
      "#     return re.compile(r'\\b({0})\\b'.format(w), flags=re.IGNORECASE).search\n",
      "# mid_st_dict = {}\n",
      "# for id in missingIds:\n",
      "#     mid_st_dict[id] = [sind for sind in st_mathced_Info.index if id in st_mathced_Info.ix[sind].All_majors.split(';')]\n",
      "mst = ['masters','master','MA', 'MS', 'MEd', 'MSc', 'MEB', 'MDes', 'MNCM', 'MSN', \\\n",
      "       'MSW', 'MPA', 'MPC', 'MPP','MPH', 'MC', 'MCA', 'MCouns', 'MLA', 'MLIS', 'MDiv', \\\n",
      "       'ALM', 'MiM', 'MBA','emba','iMBA', 'MBA Tech', 'MCom', 'MBus', 'MI', 'PSM', \\\n",
      "       'MEng', 'MMath', 'MPhys', 'MPsych', 'MSci', 'MChem', 'MBiol', 'MGeol',\\\n",
      "       'dpm','dmd','doctor','phd','ph d','dphi','doctorate','post-doc']\n",
      "ID = {'6030500':'Advertising Graphic Design','8020310':'Elementary Education','19140000':'Geology',\\\n",
      "      '21030020':'Tourism','3050001':'Africa America Study','5132100':'International Business','5131500':'Business',\n",
      "      '5131700':'Business Law','6020000':'Journalism','12680010':'HealthInfo Management','17010000':'Math',\\\n",
      "      '5000105':'Business Management','22010100':'Women Study','21030030':'Sports RecreationManage','5000104':'Business Management',\\\n",
      "      '19808000':'Environmental Study','6060000':'Mass Media','5131300':'Finance','22040300':'Economics',\\\n",
      "      '15090000':'Philosophy','8030700':'Secondary Education','54020500':'Community Reginal Relation',\\\n",
      "      '7010100':'Magage Info System','7020000':'Computer Science','7020100':'Info Science and Tech',\\\n",
      "      '12030000':'Registed Nurse','22140350':'Cartography','6090000':'Communication General',\\\n",
      "      '6080000':'Speech Communication','5110000':'Real Estate','9220100':'Environmental Engineering',\\\n",
      "      '5000100':'Business Administration'}\n",
      "studentInfo = pd.read_csv('../studentInfo5.csv',sep='\\t',dtype=object)\n",
      "print studentInfo.shape\n",
      "majorDict = pd.read_csv('../majordict.csv', sep=',',dtype='object')\n",
      "majorDict.Name[pd.isnull(majorDict.Name)] = ''\n",
      "majorDict.Name = [name.translate(string.maketrans(\"\",\"\"), string.punctuation) for name in majorDict.Name]\n",
      "majorDict.loc[len(majorDict)] = ['','']\n",
      "majorDict.index = majorDict.ID\n",
      "%pylab inline\n",
      "manualMatchTable = pd.read_csv('../manualMatchedTable.csv',index_col=0,dtype=object)\n",
      "studentNonGrad = studentInfo[~studentInfo.Graduated_or_not.astype('int').astype('bool')]\n",
      "studentGrad = studentInfo[studentInfo.Graduated_or_not.astype('int').astype('bool')]\n",
      "studentGrad.GradMj_Reported[pd.isnull(studentGrad.GradMj_Reported)] = ''\n",
      "studentGrad.GradMjReName = [majorDict.ix[major].Name for major in studentGrad.GradMj_Reported.astype('object')]\n",
      "manualGrad = manualMatchTable[manualMatchTable.Graduated_or_not.astype('int').astype('bool')]\n",
      "manualGrad.GradMjReName = studentGrad.ix[manualGrad.Index_x.astype('int')].GradMjReName.values\n",
      "# studentInfo['EntryMjName'] = majorDict.ix[studentInfo.Entry_Major.astype('S').values[:]].Name.values\n",
      "# studentInfo['EndMjName'] = majorDict.ix[studentInfo.EndMj.astype('S').values[:]].Name.values\n",
      "# studentInfo.Unique_Majors[pd.isnull(studentInfo.Unique_Majors)] = ''\n",
      "# studentInfo.All_majors[pd.isnull(studentInfo.All_majors)] = ''\n",
      "# studentInfo.GradMj_Extracted[pd.isnull(studentInfo.GradMj_Extracted)] = ''\n",
      "# studentInfo.GradMj_Reported[pd.isnull(studentInfo.GradMj_Reported)] = ''\n",
      "# studentInfo['UniqMajorName'] = [';'.join(majorDict.ix[major.split(';')].Name.values) \\\n",
      "#                                 for major in studentInfo.Unique_Majors.astype('S').values]\n",
      "# studentInfo['AllMajorName'] = [';'.join(majorDict.ix[major.split(';')].Name.values) \\\n",
      "#                                 for major in studentInfo.All_majors.astype('S').values]\n",
      "# studentInfo['GradMjExName'] = [majorDict.ix[major] for major in studentInfo.GradMj_Extracted.astype('S').values]\n",
      "# studentInfo['GradMjReName'] = [majorDict.ix[major] for major in studentInfo.GradMj_Reported.astype('S').values]"
     ],
     "language": "python",
     "metadata": {},
     "outputs": [
      {
       "output_type": "stream",
       "stream": "stdout",
       "text": [
        "(10978, 30)\n",
        "Populating the interactive namespace from numpy and matplotlib"
       ]
      },
      {
       "output_type": "stream",
       "stream": "stderr",
       "text": [
        "WARNING: pylab import has clobbered these variables: ['plt']\n",
        "`%matplotlib` prevents importing * from pylab and numpy\n",
        "/usr/local/lib/python2.7/dist-packages/pandas/core/generic.py:3343: SettingWithCopyWarning: \n",
        "A value is trying to be set on a copy of a slice from a DataFrame\n",
        "\n",
        "See the the caveats in the documentation: http://pandas.pydata.org/pandas-docs/stable/indexing.html#indexing-view-versus-copy\n",
        "  self._update_inplace(new_data)\n"
       ]
      },
      {
       "output_type": "stream",
       "stream": "stderr",
       "text": [
        "/usr/local/lib/python2.7/dist-packages/IPython/core/interactiveshell.py:2883: SettingWithCopyWarning: \n",
        "A value is trying to be set on a copy of a slice from a DataFrame\n",
        "\n",
        "See the the caveats in the documentation: http://pandas.pydata.org/pandas-docs/stable/indexing.html#indexing-view-versus-copy\n",
        "  exec(code_obj, self.user_global_ns, self.user_ns)\n",
        "/usr/local/lib/python2.7/dist-packages/pandas/core/generic.py:1951: SettingWithCopyWarning: \n",
        "A value is trying to be set on a copy of a slice from a DataFrame.\n",
        "Try using .loc[row_indexer,col_indexer] = value instead\n",
        "\n",
        "See the the caveats in the documentation: http://pandas.pydata.org/pandas-docs/stable/indexing.html#indexing-view-versus-copy\n",
        "  self[name] = value\n"
       ]
      },
      {
       "output_type": "stream",
       "stream": "stdout",
       "text": [
        "\n"
       ]
      }
     ],
     "prompt_number": 1
    },
    {
     "cell_type": "code",
     "collapsed": false,
     "input": [
      "################## Check the missing rate for linkedin data in our records ###############\n",
      "# Merge the education table.\n",
      "education = [ pd.read_csv('../part-%05d-education.csv' %i, sep='\\t') for i in range(0,10)]\n",
      "education = [edu[~pd.isnull(edu.FullName)] for edu in education]\n",
      "for i, edu in enumerate(education):\n",
      "    edu['File'] = np.zeros((len(edu),)) + i\n",
      "education = pd.concat(education,axis=0)\n",
      "education.FullName = education.FullName.str.title()\n",
      "education.FirstName = education.FirstName.str.title()\n",
      "education.LastName = education.LastName.str.title()\n",
      "print len(education)\n",
      "print len(education.groupby(['File','Index']))\n",
      "\n",
      "# Preprocessing the names of Education Table\n",
      "education.FullName = [name.split(',')[0] for name in education.FullName] ## Remove the afflication in the names\n",
      "education.FullName = [name.translate(string.maketrans(\"\",\"\"), string.punctuation) for name in education.FullName]\n",
      "education.FirstName = [' '.join(name.split()[:-1]) for name in education.FullName]\n",
      "education.LastName = [name.split()[-1] for name in education.FullName]\n",
      "\n",
      "# Remove the records that has no temple university background\n",
      "education.University[pd.isnull(education.University)] = ''\n",
      "reg = re.compile(r'(?i)\\b(?:%s)\\b' % ('temple'), re.IGNORECASE)\n",
      "education = education[[bool(reg.search(uni)) for uni in  education.University.values]]\n",
      "print len(education)\n",
      "\n",
      "# Keep only students from 1997 - 2011\n",
      "education = education[((education.StartYear.astype('float') >= 1997) \\\n",
      "                         & (education.StartYear.astype('float') <= 2011))]\n",
      "print len(education)\n",
      "# Remove whoever are master or doctorate\n",
      "education.Degree[pd.isnull(education.Degree)] = ''\n",
      "education.Major[pd.isnull(education.Major)] = ''\n",
      "education.Major = [' '.join(major.translate(string.maketrans(\"\",\"\"),string.punctuation).split()) for major in education.Major]\n",
      "education.Degree = [' '.join(degree.translate(string.maketrans(\"\",\"\"),string.punctuation).split()) for degree in education.Degree]\n",
      "education.Major = education.Major.str.title()\n",
      "education.Degree = education.Degree.str.title()\n",
      "degrees = [''.join(x.split('.')) for x in education.Degree]\n",
      "majors = [''.join(x.split('.')) for x in education.Major]\n",
      "reg = re.compile(r'(?i)\\b(?:%s)\\b' % ('|'.join(mst)))\n",
      "masterOrPhD = [bool(reg.search(stdg)) | bool(reg.search(stmj)) for (stdg,stmj) in zip(degrees,majors)]\n",
      "education = education[~ np.array(masterOrPhD)]\n",
      "print len(education)"
     ],
     "language": "python",
     "metadata": {},
     "outputs": [
      {
       "output_type": "stream",
       "stream": "stdout",
       "text": [
        "186720\n",
        "87384"
       ]
      },
      {
       "output_type": "stream",
       "stream": "stdout",
       "text": [
        "\n",
        "88829"
       ]
      },
      {
       "output_type": "stream",
       "stream": "stdout",
       "text": [
        "\n",
        "36630"
       ]
      },
      {
       "output_type": "stream",
       "stream": "stdout",
       "text": [
        "\n",
        "29073"
       ]
      },
      {
       "output_type": "stream",
       "stream": "stdout",
       "text": [
        "\n"
       ]
      }
     ],
     "prompt_number": 87
    },
    {
     "cell_type": "code",
     "collapsed": false,
     "input": [
      "keywords = ['chemistry']\n",
      "keywordsnot = ['education','teaching']\n",
      "mgm = [bool(re.compile(r'(?i)\\b(?:%s)\\b' % ('|'.join(keywords))).search(major)) & \\\n",
      "       (not bool(re.compile(r'(?i)\\b(?:%s)\\b' % ('|'.join(keywordsnot))).search(major)))\\\n",
      "                      for major in uniqueMajorsLinkedIn.index]\n",
      "print uniqueMajorsLinkedIn[mgm]\n",
      "sum(uniqueMajorsLinkedIn[mgm])"
     ],
     "language": "python",
     "metadata": {},
     "outputs": []
    },
    {
     "cell_type": "code",
     "collapsed": false,
     "input": [
      "##### IST records in LinkedIn but Not in Our Data\n",
      "keywords = ['computer','information','info','tech','ist','is']\n",
      "keywordsnot = ['management','health','education']\n",
      "mgm = [bool(re.compile(r'(?i)\\b(?:%s)\\b' % ('|'.join(keywords))).search(major)) & \\\n",
      "       (not bool(re.compile(r'(?i)\\b(?:%s)\\b' % ('|'.join(keywordsnot))).search(major)))\\\n",
      "                      for major in education.Major]\n",
      "\n",
      "print sum(mgm)\n",
      "columnstowrite = ['FullName','StartYear','EndYear','Major','Degree']\n",
      "# education[mgm][columnstowrite].to_csv('../IST_manual.csv',index=True)\n",
      "IST_manual = pd.read_csv('../IST_manual.csv',index_col=0)\n",
      "IST_manual.Match_or_Not[pd.isnull(IST_manual.Match_or_Not)] = 0\n",
      "IST_manual = education[mgm][IST_manual.Match_or_Not.astype('bool')]\n",
      "IST_manual.drop_duplicates(cols=['Index','File'],inplace = True, take_last=True)\n",
      "matched_st = zip(manualMatchTable.Index_y.astype('int'), manualMatchTable.File.astype('float'))\n",
      "IST_st = zip(IST_manual.Index, IST_manual.File)\n",
      "print len(IST_manual)\n",
      "sum([st not in matched_st for st in IST_st])"
     ],
     "language": "python",
     "metadata": {},
     "outputs": []
    },
    {
     "cell_type": "code",
     "collapsed": false,
     "input": [
      "##### Physics records in LinkedIn but Not in Our Data\n",
      "keywords = ['physics']\n",
      "mgm = [bool(re.compile(r'(?i)\\b(?:%s)\\b' % ('|'.join(keywords))).search(major))\\\n",
      "                      for major in education.Major]\n",
      "\n",
      "print sum(mgm)\n",
      "columnstowrite = ['FullName','StartYear','EndYear','Major','Degree']\n",
      "# education[mgm][columnstowrite].to_csv('../pysics_manual.csv',index=True)\n",
      "IST_manual = pd.read_csv('../pysics_manual.csv',index_col=0)\n",
      "IST_manual.Match_or_Not[pd.isnull(IST_manual.Match_or_Not)] = 0\n",
      "IST_manual = education[mgm][IST_manual.Match_or_Not.astype('bool')]\n",
      "IST_manual.drop_duplicates(cols=['Index','File'],inplace = True, take_last=True)\n",
      "matched_st = zip(manualMatchTable.Index_y.astype('int'), manualMatchTable.File.astype('float'))\n",
      "IST_st = zip(IST_manual.Index, IST_manual.File)\n",
      "print len(IST_manual)\n",
      "sum([st not in matched_st for st in IST_st])"
     ],
     "language": "python",
     "metadata": {},
     "outputs": []
    },
    {
     "cell_type": "code",
     "collapsed": false,
     "input": [
      "keywords = ['math','mathmatics','mathematics','mathematic']\n",
      "keywordsnot = ['education','teaching']\n",
      "mgm = [bool(re.compile(r'(?i)\\b(?:%s)\\b' % ('|'.join(keywords))).search(major)) & \\\n",
      "       (not bool(re.compile(r'(?i)\\b(?:%s)\\b' % ('|'.join(keywordsnot))).search(major)))\\\n",
      "                      for major in education.Major]\n",
      "\n",
      "print sum(mgm)\n",
      "columnstowrite = ['FullName','StartYear','EndYear','Major','Degree']\n",
      "# education[mgm][columnstowrite].to_csv('../math_manual.csv',index=True)\n",
      "IST_manual = pd.read_csv('../math_manual.csv',index_col=0)\n",
      "IST_manual.Match_or_Not[pd.isnull(IST_manual.Match_or_Not)] = 0\n",
      "IST_manual = education[mgm][IST_manual.Match_or_Not.astype('bool')]\n",
      "IST_manual.drop_duplicates(cols=['Index','File'],inplace = True, take_last=True)\n",
      "matched_st = zip(manualMatchTable.Index_y.astype('int'), manualMatchTable.File.astype('float'))\n",
      "IST_st = zip(IST_manual.Index, IST_manual.File)\n",
      "print len(IST_manual)\n",
      "sum([st not in matched_st for st in IST_st])"
     ],
     "language": "python",
     "metadata": {},
     "outputs": []
    },
    {
     "cell_type": "code",
     "collapsed": false,
     "input": [
      "keywords = ['chem','chemistry']\n",
      "keywordsnot = ['education','teaching']\n",
      "# mgm = [bool(re.compile(r'(?i)\\b(?:%s)\\b' % ('|'.join(keywords))).search(major)) & \\\n",
      "#        (not bool(re.compile(r'(?i)\\b(?:%s)\\b' % ('|'.join(keywordsnot))).search(major)))\\\n",
      "#                       for major in education.Major]\n",
      "\n",
      "mgm = [bool(major.lower() == 'chemistry') for major in education.Major]\n",
      "print sum(mgm)\n",
      "columnstowrite = ['FullName','StartYear','EndYear','Major','Degree']\n",
      "# education[mgm][columnstowrite].to_csv('../chem_manual.csv',index=True)\n",
      "IST_manual = pd.read_csv('../chem_manual.csv',index_col=0)\n",
      "IST_manual.Match_or_Not[pd.isnull(IST_manual.Match_or_Not)] = 0\n",
      "IST_manual = education[mgm][IST_manual.Match_or_Not.astype('bool')]\n",
      "IST_manual.drop_duplicates(cols=['Index','File'],inplace = True, take_last=True)\n",
      "matched_st = zip(manualMatchTable.Index_y.astype('int'), manualMatchTable.File.astype('float'))\n",
      "IST_st = zip(IST_manual.Index, IST_manual.File)\n",
      "print len(IST_manual)\n",
      "sum([st not in matched_st for st in IST_st])"
     ],
     "language": "python",
     "metadata": {},
     "outputs": []
    },
    {
     "cell_type": "code",
     "collapsed": false,
     "input": [
      "IST_manual[columnstowrite+['LastName','Index','File'\uff0c]][[st not in matched_st for st in IST_st]]"
     ],
     "language": "python",
     "metadata": {},
     "outputs": []
    },
    {
     "cell_type": "code",
     "collapsed": false,
     "input": [
      "%pylab inline\n",
      "# manualMatchTable = pd.read_csv('../manualMatchedTable.csv',index_col=0,dtype='object')\n",
      "x = manualMatchTable.EndYear_x[manualMatchTable.Graduated_or_not.astype('int').astype('bool')]\n",
      "y = studentInfo.EndYear[studentInfo.Graduated_or_not.astype('int').astype('bool')]\n",
      "totalCounts = np.log2(x.value_counts()+1)\n",
      "counts = np.log2(y.value_counts()+1)\n",
      "k = len(counts)\n",
      "fig, ax = plt.subplots()\n",
      "width = 0.35\n",
      "ind = np.arange(k)\n",
      "rect1 = ax.bar(ind, counts.iloc[:k],width, color='r')\n",
      "rect2 = ax.bar(ind+width, totalCounts.ix[counts.iloc[:k].index],width, color='b')\n",
      "labels = counts.iloc[:k].index\n",
      "# labels[pd.isnull(labels)] = labels[pd.isnull(labels)].index\n",
      "plt.xticks(ind+2*width, labels, rotation = 45, ha='right')\n",
      "for i in ind:\n",
      "    plt.text(i+width, counts.values[i], \\\n",
      "             '%.2f'%(np.divide(totalCounts.ix[counts.iloc[:k].index], counts).values[i]),\\\n",
      "             ha='center')\n",
      "\n",
      "plt.title('Sampling Bias of the Graduation Year for Graduated Students')\n",
      "ax.set_ylabel('Log2 Number of students')\n",
      "ax.set_xlabel('Graduation Year')\n",
      "plt.legend((rect1[0],rect2[0]),('Grad_all','Grad_matched'))\n",
      "\n",
      "# plt.title('Bias of the Last Recorded Year for nonGraduated Students')\n",
      "# ax.set_ylabel('Log2 Number of students')\n",
      "# ax.set_xlabel('Last Recorded Year')\n",
      "# plt.legend((rect1[0],rect2[0]),('NonGrad_all','NonGrad_matched'))\n",
      "\n",
      "plt.gcf().tight_layout()\n",
      "plt.subplots_adjust(top=0.9) "
     ],
     "language": "python",
     "metadata": {},
     "outputs": []
    },
    {
     "cell_type": "code",
     "collapsed": false,
     "input": [
      "%pylab inline\n",
      "width = 0.35\n",
      "totalCounts = studentGrad.GradMjReName\n",
      "totalCounts = np.log2(totalCounts.value_counts()+1)\n",
      "counts = manualGrad.GradMjReName\n",
      "counts = np.log2(counts.value_counts()+1)\n",
      "k = np.linspace(0, 34, num=35)\n",
      "# k = np.linspace(31, 60, num = 30)\n",
      "fig, ax = plt.subplots()\n",
      "ind = k\n",
      "rect1 = ax.bar(ind, totalCounts.iloc[k], width, color='r')\n",
      "rect2 = ax.bar(ind+width, counts.ix[totalCounts.iloc[k].index],width, color='b')\n",
      "labels = totalCounts.iloc[k].index\n",
      "plt.xticks(ind+2*width, labels, rotation = 45, ha='right')\n",
      "for i in ind:\n",
      "    plt.text(i+width, totalCounts.values[i], \\\n",
      "             '%.2f'%(np.divide(counts.ix[totalCounts.index], totalCounts).values[i]),\\\n",
      "             ha='center')\n",
      "\n",
      "plt.title('Bias of Majors for Graduated Students')\n",
      "ax.set_ylabel('Log2 Number of students')\n",
      "ax.set_xlabel('Major')\n",
      "plt.legend((rect1[0],rect2[0]),('Grad_all','Grad_matched'))\n",
      "\n",
      "plt.gcf().tight_layout()\n",
      "plt.subplots_adjust(top=0.9)\n",
      "fig.set_size_inches(20,20.5)\n",
      "# plt.savefig('pic/entrymajor_vs_endmajor.png')\n",
      "# plt.set_xticks(ind + 0.5/2)\n",
      "# ax.set_xticklabels(EndMj.iloc[:10].index)"
     ],
     "language": "python",
     "metadata": {},
     "outputs": []
    },
    {
     "cell_type": "code",
     "collapsed": false,
     "input": [
      "years = [str(y) for y in range(1998,2011)]\n",
      "majors = totalCounts.iloc[:34].index\n",
      "tnum = pd.DataFrame(columns=majors, index=years)\n",
      "mnum = pd.DataFrame(columns=majors, index=years)\n",
      "data = {key:gr.EndYear.value_counts() for key,gr in studentGrad.groupby(['GradMjReName'])}\n",
      "data2 = {key:gr.EndYear_x.value_counts() for key,gr in manualGrad.groupby(['GradMjReName'])}\n",
      "for major in majors:\n",
      "    if major in data.keys(): tnum[major].ix[data[major].index] = data[major].values\n",
      "    if major in data2.keys(): mnum[major].ix[data2[major].index] = data2[major].values\n",
      "tnum[pd.isnull(tnum)] = 0\n",
      "mnum[pd.isnull(mnum)] = 0"
     ],
     "language": "python",
     "metadata": {},
     "outputs": []
    },
    {
     "cell_type": "code",
     "collapsed": false,
     "input": [
      "%pylab inline\n",
      "# manualMatchTable = pd.read_csv('../manualMatchedTable.csv',index_col=0,dtype='object')\n",
      "major = majors[0]\n",
      "for index,major in enumerate(majors[:20]):\n",
      "    totalCounts = np.log2(tnum[major].astype('float')+1)\n",
      "    counts = np.log2(mnum[major].astype('float')+1)\n",
      "    k = len(counts)\n",
      "    fig, ax = plt.subplots()\n",
      "    width = 0.35\n",
      "    ind = np.arange(k)\n",
      "    rect1 = ax.bar(ind, totalCounts,width, color='r')\n",
      "    rect2 = ax.bar(ind+width, counts,width, color='b')\n",
      "    labels = totalCounts.index\n",
      "    # labels[pd.isnull(labels)] = labels[pd.isnull(labels)].index\n",
      "    plt.xticks(ind+2*width, labels, rotation = 45, ha='right')\n",
      "    for i in ind:\n",
      "        plt.text(i+width, totalCounts.values[i], \\\n",
      "                 '%.2f'%(np.divide(counts, totalCounts).values[i]),\\\n",
      "                 ha='center')\n",
      "\n",
      "    plt.title('%s Sampling Bias in each year' % major)\n",
      "    ax.set_ylabel('Log2 Number of students')\n",
      "    ax.set_xlabel('Graduation Year')\n",
      "    plt.legend((rect1[0],rect2[0]),('Grad_all','Grad_matched'),loc='best')\n",
      "\n",
      "    # plt.title('Bias of the Last Recorded Year for nonGraduated Students')\n",
      "    # ax.set_ylabel('Log2 Number of students')\n",
      "    # ax.set_xlabel('Last Recorded Year')\n",
      "    # plt.legend((rect1[0],rect2[0]),('NonGrad_all','NonGrad_matched'))\n",
      "\n",
      "    plt.gcf().tight_layout()\n",
      "    plt.subplots_adjust(top=0.9)\n",
      "    plt.savefig('../pic/%d %s bias in each year.png' % (index, major))"
     ],
     "language": "python",
     "metadata": {},
     "outputs": []
    }
   ],
   "metadata": {}
  }
 ]
}