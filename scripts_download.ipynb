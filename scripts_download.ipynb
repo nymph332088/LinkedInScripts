{
 "metadata": {
  "name": "",
  "signature": "sha256:618ac9505dc3eaa0324aa40525f4d5b1269ff3aae28d9bb6d38e456dd64e74b6"
 },
 "nbformat": 3,
 "nbformat_minor": 0,
 "worksheets": [
  {
   "cells": [
    {
     "cell_type": "code",
     "collapsed": false,
     "input": [
      "from scrapy.spider import BaseSpider\n",
      "from scrapy.selector import Selector\t\n",
      "import subprocess\n",
      "import threading\n",
      "import os\n",
      "import time\n",
      "import codecs\n",
      "import errno\n",
      "\n",
      "for i in [2]:\n",
      "\tinfn = 'part-%05d' %(i)\n",
      "\tinputfile = open(infn)\n",
      "\tlinenum = 9013\n",
      "# \ttry:\n",
      "# \t\tos.makedirs('part-' + str(i))\n",
      "# \texcept OSError as exception:\n",
      "# \t\tif exception.errno != errno.EEXIST:\n",
      "# \t\t\traise\n",
      "\tfor line in inputfile.readlines()[9012:9013]:\n",
      "\t\toutfn = 'part-' + str(i) + '/' +str(linenum)\n",
      "\t\toutputfile = codecs.open(outfn,encoding='utf-8', mode='w+')\n",
      "\t\turl = line.split(\"\\t\")[0].decode('utf-8')\n",
      "\t\tprint url\n",
      "\t\tcmd = \"lynx -source \" + url\n",
      "\t\tprint cmd\n",
      "\t\tlynx = subprocess.Popen(cmd, shell=True, stdout=subprocess.PIPE)\n",
      "\t\tfile_data = lynx.stdout.read().decode('utf-8')\n",
      "\t\toutputfile.write(file_data)\n",
      "\t\tlinenum += 1\n",
      "\t\toutputfile.close()"
     ],
     "language": "python",
     "metadata": {},
     "outputs": [
      {
       "output_type": "stream",
       "stream": "stdout",
       "text": [
        "http://www.linkedin.com/pub/will-carnot-rhia/b/1bb/896\n",
        "lynx -source http://www.linkedin.com/pub/will-carnot-rhia/b/1bb/896\n"
       ]
      }
     ],
     "prompt_number": 4
    }
   ],
   "metadata": {}
  }
 ]
}